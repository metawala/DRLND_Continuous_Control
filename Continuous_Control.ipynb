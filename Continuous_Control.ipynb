{
 "cells": [
  {
   "cell_type": "markdown",
   "metadata": {},
   "source": [
    "# Continuous Control\n",
    "\n",
    "---\n",
    "\n",
    "In this notebook, you will learn how to use the Unity ML-Agents environment for the second project of the [Deep Reinforcement Learning Nanodegree](https://www.udacity.com/course/deep-reinforcement-learning-nanodegree--nd893) program.\n",
    "\n",
    "### 1. Start the Environment\n",
    "\n",
    "We begin by importing the necessary packages.  If the code cell below returns an error, please revisit the project instructions to double-check that you have installed [Unity ML-Agents](https://github.com/Unity-Technologies/ml-agents/blob/master/docs/Installation.md) and [NumPy](http://www.numpy.org/)."
   ]
  },
  {
   "cell_type": "code",
   "execution_count": 1,
   "metadata": {},
   "outputs": [],
   "source": [
    "from unityagents import UnityEnvironment\n",
    "import numpy as np"
   ]
  },
  {
   "cell_type": "markdown",
   "metadata": {},
   "source": [
    "Next, we will start the environment!  **_Before running the code cell below_**, change the `file_name` parameter to match the location of the Unity environment that you downloaded.\n",
    "\n",
    "- **Mac**: `\"path/to/Reacher.app\"`\n",
    "- **Windows** (x86): `\"path/to/Reacher_Windows_x86/Reacher.exe\"`\n",
    "- **Windows** (x86_64): `\"path/to/Reacher_Windows_x86_64/Reacher.exe\"`\n",
    "- **Linux** (x86): `\"path/to/Reacher_Linux/Reacher.x86\"`\n",
    "- **Linux** (x86_64): `\"path/to/Reacher_Linux/Reacher.x86_64\"`\n",
    "- **Linux** (x86, headless): `\"path/to/Reacher_Linux_NoVis/Reacher.x86\"`\n",
    "- **Linux** (x86_64, headless): `\"path/to/Reacher_Linux_NoVis/Reacher.x86_64\"`\n",
    "\n",
    "For instance, if you are using a Mac, then you downloaded `Reacher.app`.  If this file is in the same folder as the notebook, then the line below should appear as follows:\n",
    "```\n",
    "env = UnityEnvironment(file_name=\"Reacher.app\")\n",
    "```"
   ]
  },
  {
   "cell_type": "code",
   "execution_count": 2,
   "metadata": {},
   "outputs": [
    {
     "name": "stderr",
     "output_type": "stream",
     "text": [
      "INFO:unityagents:\n",
      "'Academy' started successfully!\n",
      "Unity Academy name: Academy\n",
      "        Number of Brains: 1\n",
      "        Number of External Brains : 1\n",
      "        Lesson number : 0\n",
      "        Reset Parameters :\n",
      "\t\tgoal_speed -> 1.0\n",
      "\t\tgoal_size -> 5.0\n",
      "Unity brain name: ReacherBrain\n",
      "        Number of Visual Observations (per agent): 0\n",
      "        Vector Observation space type: continuous\n",
      "        Vector Observation space size (per agent): 33\n",
      "        Number of stacked Vector Observation: 1\n",
      "        Vector Action space type: continuous\n",
      "        Vector Action space size (per agent): 4\n",
      "        Vector Action descriptions: , , , \n"
     ]
    }
   ],
   "source": [
    "env = UnityEnvironment(file_name='./Reacher_Linux_20Agent/Reacher.x86_64')"
   ]
  },
  {
   "cell_type": "markdown",
   "metadata": {},
   "source": [
    "Environments contain **_brains_** which are responsible for deciding the actions of their associated agents. Here we check for the first brain available, and set it as the default brain we will be controlling from Python."
   ]
  },
  {
   "cell_type": "code",
   "execution_count": 3,
   "metadata": {},
   "outputs": [],
   "source": [
    "# get the default brain\n",
    "brain_name = env.brain_names[0]\n",
    "brain = env.brains[brain_name]"
   ]
  },
  {
   "cell_type": "markdown",
   "metadata": {},
   "source": [
    "### 2. Examine the State and Action Spaces\n",
    "\n",
    "In this environment, a double-jointed arm can move to target locations. A reward of `+0.1` is provided for each step that the agent's hand is in the goal location. Thus, the goal of your agent is to maintain its position at the target location for as many time steps as possible.\n",
    "\n",
    "The observation space consists of `33` variables corresponding to position, rotation, velocity, and angular velocities of the arm.  Each action is a vector with four numbers, corresponding to torque applicable to two joints.  Every entry in the action vector must be a number between `-1` and `1`.\n",
    "\n",
    "Run the code cell below to print some information about the environment."
   ]
  },
  {
   "cell_type": "code",
   "execution_count": 4,
   "metadata": {},
   "outputs": [
    {
     "name": "stdout",
     "output_type": "stream",
     "text": [
      "Number of agents: 20\n",
      "Size of each action: 4\n",
      "There are 20 agents. Each observes a state with length: 33\n",
      "The state for the first agent looks like: [ 0.00000000e+00 -4.00000000e+00  0.00000000e+00  1.00000000e+00\n",
      " -0.00000000e+00 -0.00000000e+00 -4.37113883e-08  0.00000000e+00\n",
      "  0.00000000e+00  0.00000000e+00  0.00000000e+00  0.00000000e+00\n",
      "  0.00000000e+00  0.00000000e+00 -1.00000000e+01  0.00000000e+00\n",
      "  1.00000000e+00 -0.00000000e+00 -0.00000000e+00 -4.37113883e-08\n",
      "  0.00000000e+00  0.00000000e+00  0.00000000e+00  0.00000000e+00\n",
      "  0.00000000e+00  0.00000000e+00  5.75471878e+00 -1.00000000e+00\n",
      "  5.55726624e+00  0.00000000e+00  1.00000000e+00  0.00000000e+00\n",
      " -1.68164849e-01]\n"
     ]
    }
   ],
   "source": [
    "# reset the environment\n",
    "env_info = env.reset(train_mode=True)[brain_name]\n",
    "\n",
    "# number of agents\n",
    "num_agents = len(env_info.agents)\n",
    "print('Number of agents:', num_agents)\n",
    "\n",
    "# size of each action\n",
    "action_size = brain.vector_action_space_size\n",
    "print('Size of each action:', action_size)\n",
    "\n",
    "# examine the state space \n",
    "states = env_info.vector_observations\n",
    "state_size = states.shape[1]\n",
    "print('There are {} agents. Each observes a state with length: {}'.format(states.shape[0], state_size))\n",
    "print('The state for the first agent looks like:', states[0])"
   ]
  },
  {
   "cell_type": "markdown",
   "metadata": {},
   "source": [
    "### 3. Take Random Actions in the Environment\n",
    "\n",
    "In the next code cell, you will learn how to use the Python API to control the agent and receive feedback from the environment.\n",
    "\n",
    "Once this cell is executed, you will watch the agent's performance, if it selects an action at random with each time step.  A window should pop up that allows you to observe the agent, as it moves through the environment.  \n",
    "\n",
    "Of course, as part of the project, you'll have to change the code so that the agent is able to use its experience to gradually choose better actions when interacting with the environment!"
   ]
  },
  {
   "cell_type": "code",
   "execution_count": 5,
   "metadata": {},
   "outputs": [],
   "source": [
    "#env_info = env.reset(train_mode=False)[brain_name]     # reset the environment    \n",
    "#states = env_info.vector_observations                  # get the current state (for each agent)\n",
    "#scores = np.zeros(num_agents)                          # initialize the score (for each agent)\n",
    "#while True:\n",
    "#    actions = np.random.randn(num_agents, action_size) # select an action (for each agent)\n",
    "#    actions = np.clip(actions, -1, 1)                  # all actions between -1 and 1\n",
    "#    env_info = env.step(actions)[brain_name]           # send all actions to tne environment\n",
    "#    next_states = env_info.vector_observations         # get next state (for each agent)\n",
    "#    rewards = env_info.rewards                         # get reward (for each agent)\n",
    "#    dones = env_info.local_done                        # see if episode finished\n",
    "#    scores += env_info.rewards                         # update the score (for each agent)\n",
    "#    states = next_states                               # roll over states to next time step\n",
    "#    if np.any(dones):                                  # exit loop if episode finished\n",
    "#        break\n",
    "#print('Total score (averaged over agents) this episode: {}'.format(np.mean(scores)))"
   ]
  },
  {
   "cell_type": "markdown",
   "metadata": {},
   "source": [
    "When finished, you can close the environment."
   ]
  },
  {
   "cell_type": "code",
   "execution_count": 6,
   "metadata": {},
   "outputs": [],
   "source": [
    "#env.close()"
   ]
  },
  {
   "cell_type": "markdown",
   "metadata": {},
   "source": [
    "### 4. It's Your Turn!\n",
    "\n",
    "Now it's your turn to train your own agent to solve the environment!  When training the environment, set `train_mode=True`, so that the line for resetting the environment looks like the following:\n",
    "```python\n",
    "env_info = env.reset(train_mode=True)[brain_name]\n",
    "```"
   ]
  },
  {
   "cell_type": "code",
   "execution_count": 7,
   "metadata": {},
   "outputs": [],
   "source": [
    "import random\n",
    "import time\n",
    "import json\n",
    "import torch\n",
    "import numpy as np\n",
    "import matplotlib.pyplot as plt\n",
    "%matplotlib inline\n",
    "\n",
    "from collections import deque\n",
    "from model_agent.ddpgAgent import Agent\n",
    "\n",
    "import logging\n",
    "logging.basicConfig(level=logging.INFO, format='')"
   ]
  },
  {
   "cell_type": "code",
   "execution_count": 8,
   "metadata": {},
   "outputs": [
    {
     "name": "stdout",
     "output_type": "stream",
     "text": [
      "Episode 20\t Average Score 0.48\tMax Score 1.57 \t Time 789.10s\n",
      "Episode 40\t Average Score 1.45\tMax Score 6.86 \t Time 1535.42s\n",
      "Episode 60\t Average Score 3.02\tMax Score 16.05 \t Time 2492.86s\n",
      "Episode 80\t Average Score 5.47\tMax Score 24.35 \t Time 3449.98s\n",
      "Episode 100\t Average Score 7.96\tMax Score 29.96 \t Time 4441.89s\n",
      "Episode 120\t Average Score 11.47\tMax Score 38.87 \t Time 5433.56s\n",
      "Episode 140\t Average Score 15.59\tMax Score 32.40 \t Time 6431.94s\n",
      "Episode 160\t Average Score 19.93\tMax Score 38.17 \t Time 7428.52s\n",
      "Episode 180\t Average Score 23.65\tMax Score 33.55 \t Time 8432.73s\n",
      "Episode 200\t Average Score 26.53\tMax Score 39.51 \t Time 9415.04s\n",
      "Episode 220\t Average Score 28.86\tMax Score 37.49 \t Time 10397.57s\n",
      "Episode 240\t Average Score 29.93\tMax Score 37.60 \t Time 11355.04s\n",
      "Episode 243\tAverage Score: 30.04\tMax Score 39.61 \t Time 47.99s\n",
      "Environment solved in 243 episodes!\tAverage Score: 30.04\t\tTime Elapsed 11499.42 s\n"
     ]
    }
   ],
   "source": [
    "agent = Agent(stateSize = state_size, actionSize = action_size, randomSeed = 2)\n",
    "\n",
    "def DDPG(agent, numEpisodes = 1000, lastEPNum = 1):\n",
    "    # load weights into nets   \n",
    "    maxT         = 1000\n",
    "    flag         = False # When environment is technically solved\n",
    "    scores       = [] # list containing scores from each episodes \n",
    "    scoresWindow = deque(maxlen=100)\n",
    "    totalTimeElapsed = 0\n",
    "\n",
    "    for currentEp in range(lastEPNum, numEpisodes + 1):\n",
    "        begin    = time.time()\n",
    "        \n",
    "        avgScore = 0\n",
    "        envInfo  = env.reset(train_mode = True)[brain_name]\n",
    "        states   = envInfo.vector_observations\n",
    "        scoresT  = np.zeros(num_agents)\n",
    "        agent.reset()\n",
    "        score    = 0\n",
    "\n",
    "        for t in range(maxT):\n",
    "            actions    = agent.act(states)\n",
    "            envInfo   = env.step(actions)[brain_name]\n",
    "            nextStates = envInfo.vector_observations\n",
    "            rewards    = envInfo.rewards\n",
    "            dones      = envInfo.local_done\n",
    "            agent.step(states, actions, rewards, nextStates, dones, t)\n",
    "            scoresT += rewards\n",
    "            states  = nextStates\n",
    "\n",
    "            if np.any(dones):\n",
    "                print(\"I got in here\")\n",
    "                print(currentEp)\n",
    "                break\n",
    "        \n",
    "        score = np.mean(scoresT)\n",
    "        scores.append(score)\n",
    "        scoresWindow.append(score)\n",
    "        avgScore = np.mean(scoresWindow)\n",
    "        \n",
    "        end = time.time()\n",
    "        diff = end - begin\n",
    "\n",
    "        print(\"\\rEpisode {:}\\tAverage Score: {:.2f}\\tMax Score {:.2f} \\t Time {:.2f}s\".format(currentEp, avgScore, scoresT.max(), diff), end=\"\")\n",
    "        totalTimeElapsed += diff\n",
    "\n",
    "        if(currentEp % 20 == 0):\n",
    "            print(\"\\rEpisode {:}\\t Average Score {:.2f}\\tMax Score {:.2f} \\t Time {:.2f}s\".format(currentEp, avgScore, scoresT.max(), totalTimeElapsed))\n",
    "            torch.save(agent.actorLocal.state_dict(), 'weights/checkpointActor_' + str(currentEp) + '.pth')\n",
    "            torch.save(agent.criticLocal.state_dict(), 'weights/checkpointCritic_' + str(currentEp) + '.pth')\n",
    "\n",
    "        if(avgScore >= 30):\n",
    "            print('\\nEnvironment solved in {:d} episodes!\\tAverage Score: {:.2f}\\t\\tTime Elapsed {:.2f} s'.format(currentEp, avgScore, totalTimeElapsed))\n",
    "            torch.save(agent.actorLocal.state_dict(), \"FINALCheckpointActorSolved.pth\")\n",
    "            torch.save(agent.criticLocal.state_dict(), \"FINALCheckpointCriticSolved.pth\")\n",
    "            break\n",
    "    return scores\n",
    "\n",
    "scores = DDPG(agent)"
   ]
  },
  {
   "cell_type": "code",
   "execution_count": 9,
   "metadata": {},
   "outputs": [],
   "source": [
    "env.close()"
   ]
  },
  {
   "cell_type": "code",
   "execution_count": 11,
   "metadata": {},
   "outputs": [
    {
     "data": {
      "image/png": "[encoded data removed]",
      "text/plain": [
       "<Figure size 1152x864 with 1 Axes>"
      ]
     },
     "metadata": {
      "needs_background": "light"
     },
     "output_type": "display_data"
    }
   ],
   "source": [
    "fig = plt.figure(figsize=(16,12))\n",
    "ax = fig.add_subplot(111)\n",
    "plt.plot(np.arange(len(scores)), scores)\n",
    "plt.xlabel(\"Episode Number\")\n",
    "plt.ylabel(\"Score\")\n",
    "plt.show()\n",
    "fig.savefig(\"./ReportImages/ResultGraph.png\")"
   ]
  },
  {
   "cell_type": "code",
   "execution_count": null,
   "metadata": {},
   "outputs": [],
   "source": []
  }
 ],
 "metadata": {
  "interpreter": {
   "hash": "574c569c18e1c440c564134f8ac2030641584ee7a7c0a512c3f3bf58f2052e66"
  },
  "kernelspec": {
   "display_name": "drlnd",
   "language": "python",
   "name": "drlnd"
  },
  "language_info": {
   "codemirror_mode": {
    "name": "ipython",
    "version": 3
   },
   "file_extension": ".py",
   "mimetype": "text/x-python",
   "name": "python",
   "nbconvert_exporter": "python",
   "pygments_lexer": "ipython3",
   "version": "3.6.13"
  }
 },
 "nbformat": 4,
 "nbformat_minor": 2
}
